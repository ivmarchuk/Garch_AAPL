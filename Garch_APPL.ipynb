{
  "nbformat": 4,
  "nbformat_minor": 0,
  "metadata": {
    "colab": {
      "name": "Garch_APPL",
      "provenance": [],
      "collapsed_sections": [],
      "include_colab_link": true
    },
    "kernelspec": {
      "name": "python3",
      "display_name": "Python 3"
    },
    "language_info": {
      "name": "python"
    }
  },
  "cells": [
    {
      "cell_type": "markdown",
      "metadata": {
        "id": "view-in-github",
        "colab_type": "text"
      },
      "source": [
        "<a href=\"https://colab.research.google.com/github/ivmarchuk/Garch_AAPL/blob/main/Garch_APPL.ipynb\" target=\"_parent\"><img src=\"https://colab.research.google.com/assets/colab-badge.svg\" alt=\"Open In Colab\"/></a>"
      ]
    },
    {
      "cell_type": "code",
      "metadata": {
        "id": "wMzoSlNAsVJE"
      },
      "source": [
        "! pip install git+https://github.com/RJT1990/pyflux"
      ],
      "execution_count": null,
      "outputs": []
    },
    {
      "cell_type": "code",
      "metadata": {
        "id": "GlKMaLyLuWUi"
      },
      "source": [
        "! pip install pyflux"
      ],
      "execution_count": null,
      "outputs": []
    },
    {
      "cell_type": "code",
      "metadata": {
        "id": "Df2TwvYvvR1Z"
      },
      "source": [
        "!pip install yfinance"
      ],
      "execution_count": null,
      "outputs": []
    },
    {
      "cell_type": "code",
      "source": [
        "!pip install arch"
      ],
      "metadata": {
        "id": "HXQalV8mF_xA"
      },
      "execution_count": null,
      "outputs": []
    },
    {
      "cell_type": "code",
      "metadata": {
        "id": "wvpK44NTuZpe"
      },
      "source": [
        "import numpy as np\n",
        "import pandas as pd\n",
        "\n",
        "from pandas_datareader import DataReader \n",
        "import pandas_datareader.data as web\n",
        "\n",
        "from datetime import datetime\n",
        "import datetime as dt\n",
        "import matplotlib.pyplot as plt\n",
        "\n",
        "import pyflux as pf\n",
        "import yfinance as yf\n",
        "\n",
        "from arch import arch_model\n",
        "from statsmodels.tsa.arima_model import ARIMA\n",
        "\n",
        "import sys"
      ],
      "execution_count": null,
      "outputs": []
    },
    {
      "cell_type": "code",
      "metadata": {
        "id": "sLrcNXzouee_"
      },
      "source": [
        "assets=['AAPL']\n",
        "df=pd.DataFrame()\n",
        "\n",
        "for i in assets:\n",
        "  df[i]=yf.download(i,'2015-08-01','2022-08-01')['Close']\n",
        "  plt.plot(df[i],label=i)\n",
        "  \n",
        "plt.legend()\n",
        "plt.show()\n",
        "returns=df.pct_change() "
      ],
      "execution_count": null,
      "outputs": []
    },
    {
      "cell_type": "code",
      "metadata": {
        "id": "xMCcR1K6yjmL"
      },
      "source": [
        "df['AAPL']=yf.download('AAPL','2015-08-01')['Close']"
      ],
      "execution_count": null,
      "outputs": []
    },
    {
      "cell_type": "code",
      "metadata": {
        "id": "FpZYAsHRy0_5"
      },
      "source": [
        "returns_1 = pd.DataFrame(np.diff(np.log(df['AAPL'].values)))\n",
        "print(returns_1)\n",
        "\n",
        "returns_1.index=df.index.values[1:df.index.values.shape[0]]\n",
        "\n",
        "plt.plot(df)\n",
        "plt.figure(figsize=(15,5));\n",
        "plt.plot(returns.index,returns)\n",
        "plt.ylabel('Returns')\n",
        "plt.title('AAPL Returns')"
      ],
      "execution_count": null,
      "outputs": []
    },
    {
      "cell_type": "code",
      "metadata": {
        "id": "mHc_mQnVy7Xl"
      },
      "source": [
        "data_1=returns_1\n",
        "train = data_1[1:round(len(returns)/2)+2]\n",
        "test = data_1[round(len(returns)/2):]\n",
        "\n",
        "print(train)"
      ],
      "execution_count": null,
      "outputs": []
    },
    {
      "cell_type": "code",
      "metadata": {
        "id": "JfUEHZ386L_f"
      },
      "source": [
        "am = arch_model(data_1, vol='Garch', p=1, q=1)\n",
        "index = data_1.index\n",
        "start_loc = 0\n",
        "end_loc = np.where(index >= \"2018-5-17\")[0].min()\n",
        "forecasts = {}\n",
        "\n",
        "for i in range(880):\n",
        " sys.stdout.write(\".\")\n",
        " sys.stdout.flush()\n",
        " res = am.fit(first_obs=i, last_obs=i + end_loc, disp=\"off\")\n",
        " temp = res.forecast(horizon=1, reindex=False).variance\n",
        " fcast = temp.iloc[0]\n",
        " forecasts[fcast.name] = fcast\n",
        " pred=pd.DataFrame(forecasts).T\n",
        " \n",
        "print()\n",
        "print(pred)"
      ],
      "execution_count": null,
      "outputs": []
    },
    {
      "cell_type": "code",
      "metadata": {
        "id": "LMkfhVyMeXRP"
      },
      "source": [
        "print(res.summary())"
      ],
      "execution_count": null,
      "outputs": []
    },
    {
      "cell_type": "code",
      "metadata": {
        "id": "oSMqqJJz74jU"
      },
      "source": [
        "var2 = pd.concat([test], axis=1)\n",
        "var2['Predictions'] = np.array(pred)\n",
        "var2.columns = ['Test','Prediction']\n",
        "print(var2)"
      ],
      "execution_count": null,
      "outputs": []
    },
    {
      "cell_type": "code",
      "metadata": {
        "id": "dvdAxrJ4vdRu"
      },
      "source": [
        "assets=['AAPL']\n",
        "df=pd.DataFrame()\n",
        "for i in assets:\n",
        "  df[i]=yf.download(i,'2015-01-03')['Close']\n",
        "  plt.plot(df[i],label=i)\n",
        "plt.legend()\n",
        "plt.show()\n",
        "returns=df.pct_change()"
      ],
      "execution_count": null,
      "outputs": []
    },
    {
      "cell_type": "code",
      "metadata": {
        "id": "IsFQ4yPA5J-E"
      },
      "source": [
        "var = train**2\n",
        "print(var)"
      ],
      "execution_count": null,
      "outputs": []
    },
    {
      "cell_type": "code",
      "metadata": {
        "id": "y3z2omgJwDlu"
      },
      "source": [
        "trivial=[]\n",
        "\n",
        "for i in range(848):\n",
        "  trivial.append(data_1[i:(848+i)].var().values[0])\n",
        "trivial=pd.DataFrame(trivial)\n",
        "print(trivial)"
      ],
      "execution_count": null,
      "outputs": []
    },
    {
      "cell_type": "code",
      "metadata": {
        "id": "EPvQKrktAYRN"
      },
      "source": [
        "var2 = test**2\n",
        "print(var2)"
      ],
      "execution_count": null,
      "outputs": []
    },
    {
      "cell_type": "code",
      "metadata": {
        "id": "PrYLjT_JAdqf"
      },
      "source": [
        "var2 = pd.concat([var2], axis=1)\n",
        "print(var2)"
      ],
      "execution_count": null,
      "outputs": []
    },
    {
      "cell_type": "code",
      "metadata": {
        "id": "-VsbZ8IMMzOq"
      },
      "source": [
        "var2.columns = ['TEST']\n",
        "print(var2)"
      ],
      "execution_count": null,
      "outputs": []
    },
    {
      "cell_type": "code",
      "metadata": {
        "id": "v1a9LstvAgKE"
      },
      "source": [
        "var2.columns = ['Error']\n",
        "print(var2)"
      ],
      "execution_count": null,
      "outputs": []
    },
    {
      "cell_type": "code",
      "metadata": {
        "id": "pOmJcMjyAlaw"
      },
      "source": [
        "tr=var2['TEST']**2\n",
        "tr.mean()\n",
        "print (tr.mean())\n",
        "# trivial models error"
      ],
      "execution_count": null,
      "outputs": []
    },
    {
      "cell_type": "code",
      "metadata": {
        "id": "Out9Y_KnApmj"
      },
      "source": [
        "var2['Predictions'] = np.array(pred) \n",
        "print(var2)"
      ],
      "execution_count": null,
      "outputs": []
    },
    {
      "cell_type": "code",
      "metadata": {
        "id": "XBtgOfP-Ar3n"
      },
      "source": [
        "var2['TEST2'] = var2['TEST'] - var2['Predictions']\n",
        "print(var2)"
      ],
      "execution_count": null,
      "outputs": []
    },
    {
      "cell_type": "code",
      "metadata": {
        "id": "Qrrxj0piA4so"
      },
      "source": [
        "preder = var2['Error2']**2\n",
        "preder.mean()\n",
        "print(preder.mean())\n",
        "# models mistake"
      ],
      "execution_count": null,
      "outputs": []
    },
    {
      "cell_type": "code",
      "metadata": {
        "id": "GxotmTiFA8Um"
      },
      "source": [
        "result = tr.mean()-preder.mean()\n",
        "print(result)"
      ],
      "execution_count": null,
      "outputs": []
    }
  ]
}